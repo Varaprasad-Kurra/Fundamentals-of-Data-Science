{
 "cells": [
  {
   "cell_type": "markdown",
   "metadata": {
    "colab_type": "text",
    "id": "uJyU1K8YPXy7"
   },
   "source": [
    "# Homework 3\n",
    "In this homework assignment, you will implement a univariate feature selection method. \n",
    "\n",
    "You will be given a toy dataset called 'Car Evaluation Data Set' (see: http://archive.ics.uci.edu/ml/datasets/Car+Evaluation for details).\n",
    "You are not required to, but advised to test your code with the toy dataset, or any other dataset that contains categorical variables.\n",
    "\n",
    "The given dataset contains six descriptive features and a target variable. Each of those are ordinal scale, categorical variables. The name of the target feature is 'evaluation'. \n",
    "\n",
    "Note here that you are expected to write your own code, so DO NOT COPY AND PASTE CODE OR USE LIBRARY FUNCTIONS. The goal of the homework is not to see if you can call library functions but to have you practice with the impurity measures and feature selection techniques.\n"
   ]
  },
  {
   "cell_type": "code",
   "execution_count": 0,
   "metadata": {
    "colab": {},
    "colab_type": "code",
    "id": "sR05pY3mPXy-"
   },
   "outputs": [],
   "source": [
    "%matplotlib inline\n",
    "import pandas as pd\n",
    "import numpy as np\n",
    "import matplotlib\n",
    "import matplotlib.pyplot as plt"
   ]
  },
  {
   "cell_type": "markdown",
   "metadata": {
    "colab_type": "text",
    "id": "ScVw4KoCPXzC"
   },
   "source": [
    "### Read the dataset"
   ]
  },
  {
   "cell_type": "code",
   "execution_count": 4,
   "metadata": {
    "colab": {
     "base_uri": "https://localhost:8080/",
     "height": 402
    },
    "colab_type": "code",
    "id": "vepEDRFGPXzD",
    "outputId": "f8d7574e-a9ef-42e9-d7d8-c0ec2e660a2f"
   },
   "outputs": [
    {
     "data": {
      "text/html": [
       "<div>\n",
       "<style scoped>\n",
       "    .dataframe tbody tr th:only-of-type {\n",
       "        vertical-align: middle;\n",
       "    }\n",
       "\n",
       "    .dataframe tbody tr th {\n",
       "        vertical-align: top;\n",
       "    }\n",
       "\n",
       "    .dataframe thead th {\n",
       "        text-align: right;\n",
       "    }\n",
       "</style>\n",
       "<table border=\"1\" class=\"dataframe\">\n",
       "  <thead>\n",
       "    <tr style=\"text-align: right;\">\n",
       "      <th></th>\n",
       "      <th>buying</th>\n",
       "      <th>maint</th>\n",
       "      <th>doors</th>\n",
       "      <th>persons</th>\n",
       "      <th>lug_boot</th>\n",
       "      <th>safety</th>\n",
       "      <th>evaluation</th>\n",
       "    </tr>\n",
       "  </thead>\n",
       "  <tbody>\n",
       "    <tr>\n",
       "      <th>0</th>\n",
       "      <td>vhigh</td>\n",
       "      <td>vhigh</td>\n",
       "      <td>2</td>\n",
       "      <td>2</td>\n",
       "      <td>small</td>\n",
       "      <td>low</td>\n",
       "      <td>unacc</td>\n",
       "    </tr>\n",
       "    <tr>\n",
       "      <th>1</th>\n",
       "      <td>vhigh</td>\n",
       "      <td>vhigh</td>\n",
       "      <td>2</td>\n",
       "      <td>2</td>\n",
       "      <td>small</td>\n",
       "      <td>med</td>\n",
       "      <td>unacc</td>\n",
       "    </tr>\n",
       "    <tr>\n",
       "      <th>2</th>\n",
       "      <td>vhigh</td>\n",
       "      <td>vhigh</td>\n",
       "      <td>2</td>\n",
       "      <td>2</td>\n",
       "      <td>small</td>\n",
       "      <td>high</td>\n",
       "      <td>unacc</td>\n",
       "    </tr>\n",
       "    <tr>\n",
       "      <th>3</th>\n",
       "      <td>vhigh</td>\n",
       "      <td>vhigh</td>\n",
       "      <td>2</td>\n",
       "      <td>2</td>\n",
       "      <td>med</td>\n",
       "      <td>low</td>\n",
       "      <td>unacc</td>\n",
       "    </tr>\n",
       "    <tr>\n",
       "      <th>4</th>\n",
       "      <td>vhigh</td>\n",
       "      <td>vhigh</td>\n",
       "      <td>2</td>\n",
       "      <td>2</td>\n",
       "      <td>med</td>\n",
       "      <td>med</td>\n",
       "      <td>unacc</td>\n",
       "    </tr>\n",
       "    <tr>\n",
       "      <th>...</th>\n",
       "      <td>...</td>\n",
       "      <td>...</td>\n",
       "      <td>...</td>\n",
       "      <td>...</td>\n",
       "      <td>...</td>\n",
       "      <td>...</td>\n",
       "      <td>...</td>\n",
       "    </tr>\n",
       "    <tr>\n",
       "      <th>1723</th>\n",
       "      <td>low</td>\n",
       "      <td>low</td>\n",
       "      <td>5more</td>\n",
       "      <td>more</td>\n",
       "      <td>med</td>\n",
       "      <td>med</td>\n",
       "      <td>good</td>\n",
       "    </tr>\n",
       "    <tr>\n",
       "      <th>1724</th>\n",
       "      <td>low</td>\n",
       "      <td>low</td>\n",
       "      <td>5more</td>\n",
       "      <td>more</td>\n",
       "      <td>med</td>\n",
       "      <td>high</td>\n",
       "      <td>vgood</td>\n",
       "    </tr>\n",
       "    <tr>\n",
       "      <th>1725</th>\n",
       "      <td>low</td>\n",
       "      <td>low</td>\n",
       "      <td>5more</td>\n",
       "      <td>more</td>\n",
       "      <td>big</td>\n",
       "      <td>low</td>\n",
       "      <td>unacc</td>\n",
       "    </tr>\n",
       "    <tr>\n",
       "      <th>1726</th>\n",
       "      <td>low</td>\n",
       "      <td>low</td>\n",
       "      <td>5more</td>\n",
       "      <td>more</td>\n",
       "      <td>big</td>\n",
       "      <td>med</td>\n",
       "      <td>good</td>\n",
       "    </tr>\n",
       "    <tr>\n",
       "      <th>1727</th>\n",
       "      <td>low</td>\n",
       "      <td>low</td>\n",
       "      <td>5more</td>\n",
       "      <td>more</td>\n",
       "      <td>big</td>\n",
       "      <td>high</td>\n",
       "      <td>vgood</td>\n",
       "    </tr>\n",
       "  </tbody>\n",
       "</table>\n",
       "<p>1728 rows × 7 columns</p>\n",
       "</div>"
      ],
      "text/plain": [
       "     buying  maint  doors persons lug_boot safety evaluation\n",
       "0     vhigh  vhigh      2       2    small    low      unacc\n",
       "1     vhigh  vhigh      2       2    small    med      unacc\n",
       "2     vhigh  vhigh      2       2    small   high      unacc\n",
       "3     vhigh  vhigh      2       2      med    low      unacc\n",
       "4     vhigh  vhigh      2       2      med    med      unacc\n",
       "...     ...    ...    ...     ...      ...    ...        ...\n",
       "1723    low    low  5more    more      med    med       good\n",
       "1724    low    low  5more    more      med   high      vgood\n",
       "1725    low    low  5more    more      big    low      unacc\n",
       "1726    low    low  5more    more      big    med       good\n",
       "1727    low    low  5more    more      big   high      vgood\n",
       "\n",
       "[1728 rows x 7 columns]"
      ]
     },
     "execution_count": 4,
     "metadata": {
      "tags": []
     },
     "output_type": "execute_result"
    }
   ],
   "source": [
    "edf = pd.read_csv('careval.csv')\n",
    "# display(edf.head())\n",
    "# edf.info()\n",
    "edf"
   ]
  },
  {
   "cell_type": "code",
   "execution_count": 23,
   "metadata": {
    "colab": {
     "base_uri": "https://localhost:8080/",
     "height": 101
    },
    "colab_type": "code",
    "id": "fnthBaJdB5YO",
    "outputId": "b06e7bbf-3737-4ac3-a603-3c80b5a637e8"
   },
   "outputs": [
    {
     "name": "stdout",
     "output_type": "stream",
     "text": [
      "['unacc' 'acc' 'vgood' 'good']\n",
      "(1210, 7)\n",
      "(384, 7)\n",
      "(65, 7)\n",
      "(69, 7)\n"
     ]
    }
   ],
   "source": [
    "x = edf.evaluation.unique()\n",
    "print(x)\n",
    "for i in x :\n",
    "    f = edf[edf.evaluation == i].shape\n",
    "    print(f)"
   ]
  },
  {
   "cell_type": "markdown",
   "metadata": {
    "colab_type": "text",
    "id": "y2fZOQIwPXzK"
   },
   "source": [
    "You will create a method called IUFS (impurity-based univariate feature selection), which will select the most informative features with a univariate feature selection schema. This feature selection method will take the dataset, name of the target variable, number of features to be selected (k) and the measure of impurity as an input, and will output the names of k best features based on the information gain. You are expected to implement information gain, entropy and Gini index functions. Note here that this will be a univariate selection, which means that you need to test the features individually."
   ]
  },
  {
   "cell_type": "code",
   "execution_count": 6,
   "metadata": {
    "colab": {
     "base_uri": "https://localhost:8080/",
     "height": 34
    },
    "colab_type": "code",
    "id": "ZRV6OjUuPXzK",
    "outputId": "a6c14e35-21b1-4562-b4bc-996b23659a4c"
   },
   "outputs": [
    {
     "name": "stdout",
     "output_type": "stream",
     "text": [
      "-2.0\n"
     ]
    }
   ],
   "source": [
    "# entropy (H)\n",
    "\n",
    "def Enntropy(feature, dataset):\n",
    "    \"\"\"Calculates the entropy of a feature in a given dataset.\n",
    "    \n",
    "    Parameters\n",
    "    ----------\n",
    "    feature: str\n",
    "        name of the feature\n",
    "    dataset: pd.DataFrame\n",
    "        dataframe for the dataset\n",
    "    Returns\n",
    "    -------\n",
    "    float\n",
    "        entropy for the feature in the dataset\n",
    "    \"\"\"\n",
    "    ##your implementation goes here\n",
    "    entropy1 = 0\n",
    "    Unique_Values = dataset[feature].unique()\n",
    "    for i in Unique_Values :\n",
    "        x = dataset[dataset[feature] == i].shape[0]\n",
    "        y = x/dataset.shape[0]\n",
    "        entropy1 = entropy1 + y*np.log2(y)\n",
    "    return entropy1\n",
    "\n",
    "\n",
    "entropy = Enntropy('buying', edf) \n",
    "print(entropy)"
   ]
  },
  {
   "cell_type": "code",
   "execution_count": 7,
   "metadata": {
    "colab": {
     "base_uri": "https://localhost:8080/",
     "height": 34
    },
    "colab_type": "code",
    "id": "yrdBeQmaPXzO",
    "outputId": "06acbdae-33bc-4970-d6af-0ab580c658f2"
   },
   "outputs": [
    {
     "name": "stdout",
     "output_type": "stream",
     "text": [
      "0.75\n"
     ]
    }
   ],
   "source": [
    "# gini index (Gini)\n",
    "\n",
    "def gini(feature, dataset):\n",
    "    \"\"\"Calculates the gini index of a feature in a given dataset.\n",
    "    \n",
    "    Parameters\n",
    "    ----------\n",
    "    feature: str\n",
    "        name of the feature\n",
    "    dataset: pd.DataFrame\n",
    "        dataframe for the dataset\n",
    "    Returns\n",
    "    -------\n",
    "    float\n",
    "        gini index for the feature in the dataset\n",
    "    \"\"\"\n",
    "    ##your implementation goes here\n",
    "    k=0\n",
    "    Unique_Values = dataset[feature].unique()\n",
    "    for i in Unique_Values :\n",
    "        x = dataset[dataset[feature] == i].shape[0]\n",
    "        y = x/dataset.shape[0]\n",
    "        k = k + y*y\n",
    "        #print(k)\n",
    "    return 1-k\n",
    "\n",
    "ginindex = gini('buying', edf) \n",
    "print(ginindex)"
   ]
  },
  {
   "cell_type": "code",
   "execution_count": 8,
   "metadata": {
    "colab": {
     "base_uri": "https://localhost:8080/",
     "height": 34
    },
    "colab_type": "code",
    "id": "I-yGT-pxAQol",
    "outputId": "bcdc3843-67f8-4a0d-8a4e-d4dd7f59136b"
   },
   "outputs": [
    {
     "name": "stdout",
     "output_type": "stream",
     "text": [
      "-1.2057409700121753\n"
     ]
    }
   ],
   "source": [
    "s = Enntropy('evaluation', edf)\n",
    "print(s)\n"
   ]
  },
  {
   "cell_type": "code",
   "execution_count": 9,
   "metadata": {
    "colab": {
     "base_uri": "https://localhost:8080/",
     "height": 34
    },
    "colab_type": "code",
    "id": "M3HAkyCxPXzS",
    "outputId": "e7d13a77-b25b-43aa-cdba-37f96a56388b"
   },
   "outputs": [
    {
     "name": "stdout",
     "output_type": "stream",
     "text": [
      "-1.2057409700121753\n"
     ]
    }
   ],
   "source": [
    "# information gain (IG)\n",
    "\n",
    "def IG(feature, target, dataset, measure):\n",
    "    \"\"\"Calculates the information gain of a feature for a given target variable and a dataset.\n",
    "    \n",
    "    Parameters\n",
    "    ----------\n",
    "    feature: str\n",
    "        name of the feature\n",
    "    target: str\n",
    "        name of the target variable\n",
    "    dataset: pd.DataFrame\n",
    "        dataframe for the dataset\n",
    "    measure: str ('entropy' or 'gini')\n",
    "        measure of impurity to be used\n",
    "    Returns\n",
    "    -------\n",
    "    float\n",
    "        information gain for the feature in the dataset for a given target variable\n",
    "    \"\"\"\n",
    "    ##your implementation goes here\n",
    "    Weighted_Entropy = 0\n",
    "    Entropy = Enntropy(target, edf)\n",
    "    Unique_Values = dataset[feature].unique()\n",
    "    for i in Unique_Values :\n",
    "        x = dataset[dataset[feature] == i].shape[0]\n",
    "        y = x/dataset.shape[0]\n",
    "        Entropy_of_feature_value = Enntropy('buying', edf[edf[feature]== i])\n",
    "        Weighted_Entropy = Weighted_Entropy + y*Entropy_of_feature_value\n",
    "    Ig = Entropy - Weighted_Entropy\n",
    "    return Ig\n",
    "\n",
    "\n",
    "ig = IG('buying','evaluation', edf, 'gini')\n",
    "print(ig) "
   ]
  },
  {
   "cell_type": "code",
   "execution_count": 20,
   "metadata": {
    "colab": {
     "base_uri": "https://localhost:8080/",
     "height": 254
    },
    "colab_type": "code",
    "id": "fSLDXD3bPXzY",
    "outputId": "ac07ffe6-ea6f-472d-ff0d-67f41004be8a"
   },
   "outputs": [
    {
     "data": {
      "text/html": [
       "<div>\n",
       "<style scoped>\n",
       "    .dataframe tbody tr th:only-of-type {\n",
       "        vertical-align: middle;\n",
       "    }\n",
       "\n",
       "    .dataframe tbody tr th {\n",
       "        vertical-align: top;\n",
       "    }\n",
       "\n",
       "    .dataframe thead th {\n",
       "        text-align: right;\n",
       "    }\n",
       "</style>\n",
       "<table border=\"1\" class=\"dataframe\">\n",
       "  <thead>\n",
       "    <tr style=\"text-align: right;\">\n",
       "      <th></th>\n",
       "      <th>feature</th>\n",
       "      <th>Imformation Gain</th>\n",
       "    </tr>\n",
       "  </thead>\n",
       "  <tbody>\n",
       "    <tr>\n",
       "      <th>0</th>\n",
       "      <td>buying</td>\n",
       "      <td>-1.205741</td>\n",
       "    </tr>\n",
       "    <tr>\n",
       "      <th>0</th>\n",
       "      <td>maint</td>\n",
       "      <td>0.794259</td>\n",
       "    </tr>\n",
       "    <tr>\n",
       "      <th>0</th>\n",
       "      <td>doors</td>\n",
       "      <td>0.794259</td>\n",
       "    </tr>\n",
       "    <tr>\n",
       "      <th>0</th>\n",
       "      <td>persons</td>\n",
       "      <td>0.794259</td>\n",
       "    </tr>\n",
       "    <tr>\n",
       "      <th>0</th>\n",
       "      <td>lug_boot</td>\n",
       "      <td>0.794259</td>\n",
       "    </tr>\n",
       "    <tr>\n",
       "      <th>0</th>\n",
       "      <td>safety</td>\n",
       "      <td>0.794259</td>\n",
       "    </tr>\n",
       "    <tr>\n",
       "      <th>0</th>\n",
       "      <td>evaluation</td>\n",
       "      <td>0.697810</td>\n",
       "    </tr>\n",
       "  </tbody>\n",
       "</table>\n",
       "</div>"
      ],
      "text/plain": [
       "      feature  Imformation Gain\n",
       "0      buying         -1.205741\n",
       "0       maint          0.794259\n",
       "0       doors          0.794259\n",
       "0     persons          0.794259\n",
       "0    lug_boot          0.794259\n",
       "0      safety          0.794259\n",
       "0  evaluation          0.697810"
      ]
     },
     "metadata": {
      "tags": []
     },
     "output_type": "display_data"
    }
   ],
   "source": [
    "def IUFS(target, dataset, k, measure='entropy'):\n",
    "    \"\"\"Finds k most informative features in the given dataset based on the target variable\n",
    "        using information gain with the selected measure.\n",
    "        \n",
    "    Parameters\n",
    "    ----------\n",
    "    target: str\n",
    "        name of the target variable\n",
    "    dataset: pd.DataFrame\n",
    "        dataframe for the dataset\n",
    "    k: int\n",
    "        number of features to return, must be less than or equal to number of descriptive features in dataset.\n",
    "        in other words, 0 < k < len(dataset.columns).\n",
    "    measure: str, 'entropy' or 'gini'\n",
    "        measure of impurity\n",
    "    Returns\n",
    "    -------\n",
    "    list\n",
    "        returns a list of k feature names, selected based on univariate selection schema\n",
    "    \"\"\"\n",
    "    ##your implementation goes here\n",
    "    DfIGScore = pd.DataFrame(columns = ['feature','Imformation Gain'])\n",
    "    features = dataset.columns\n",
    "    #print(features)\n",
    "    for feature in features :\n",
    "        Imformation_gain = IG(feature,'evaluation', edf, 'gini')\n",
    "        DfIGScore = DfIGScore.append(pd.DataFrame([[feature,Imformation_gain]],columns = ['feature','Imformation Gain']))\n",
    "        #DfIGScore.append(dfr,ignore_index=True)\n",
    "    display(DfIGScore)\n",
    "\n",
    "IUFS('evaluation', edf, 2, measure='entropy')"
   ]
  },
  {
   "cell_type": "markdown",
   "metadata": {
    "colab_type": "text",
    "id": "DbpOrQLwPXzf"
   },
   "source": [
    "### Bonus\n",
    "Improve the IUFS by including an option for gain ratio. Gain ratio is an alternative to information gain and can be used with either of the Gini index or entropy measures.  "
   ]
  },
  {
   "cell_type": "code",
   "execution_count": 0,
   "metadata": {
    "colab": {},
    "colab_type": "code",
    "id": "bwmrJ3gAPXzg"
   },
   "outputs": [],
   "source": [
    "def GR(feature, target, dataset, measure):\n",
    "    \"\"\"Calculates the gain ratio of a feature for a given target variable and a dataset.\n",
    "    \n",
    "    Parameters\n",
    "    ----------\n",
    "    feature: str\n",
    "        name of the feature\n",
    "    target: str\n",
    "        name of the target variable\n",
    "    dataset: pd.DataFrame\n",
    "        dataframe for the dataset\n",
    "    measure: str ('entropy' or 'gini')\n",
    "        measure of impurity to be used\n",
    "    Returns\n",
    "    -------\n",
    "    float\n",
    "        gain ratio for the feature in the dataset for a given target variable\n",
    "    \"\"\"\n",
    "    ##your implementation goes here\n",
    "    Information_Gain = IG()\n",
    "\n",
    "\n",
    "# GR('buying','evaluation', edf, 'gini') "
   ]
  },
  {
   "cell_type": "code",
   "execution_count": 0,
   "metadata": {
    "colab": {},
    "colab_type": "code",
    "id": "tDE8saOcPXzl"
   },
   "outputs": [],
   "source": [
    "def IUFS2(target, dataset, k, measure='entropy', gain='IG'):\n",
    "    \"\"\"Finds k most informative features in the given dataset based on the target variable\n",
    "        using information gain with the selected measure.\n",
    "        \n",
    "    Parameters\n",
    "    ----------\n",
    "    target: str\n",
    "        name of the target variable\n",
    "    dataset: pd.DataFrame\n",
    "        dataframe for the dataset\n",
    "    k: int\n",
    "        number of features to return, must be less than or equal to number of descriptive features in dataset.\n",
    "        in other words, 0 < k < len(dataset.columns).\n",
    "    measure: str, 'entropy' or 'gini'\n",
    "        measure of impurity\n",
    "    gain: str, 'IG' or 'GR'\n",
    "        feature selection metric ('IG' for information gain, 'GR' for gain ratio)\n",
    "    Returns\n",
    "    -------\n",
    "    list\n",
    "        returns a list of k feature names, selected based on univariate selection schema\n",
    "    \"\"\"\n",
    "    ##your implementation goes here\n",
    "    pass\n",
    "\n",
    "# IUFS2('evaluation', edf, 2, measure='gini', gain='GR')"
   ]
  }
 ],
 "metadata": {
  "colab": {
   "name": "HW3_assignment_starter.ipynb",
   "provenance": []
  },
  "kernelspec": {
   "display_name": "Python 3",
   "language": "python",
   "name": "python3"
  },
  "language_info": {
   "codemirror_mode": {
    "name": "ipython",
    "version": 3
   },
   "file_extension": ".py",
   "mimetype": "text/x-python",
   "name": "python",
   "nbconvert_exporter": "python",
   "pygments_lexer": "ipython3",
   "version": "3.8.1"
  }
 },
 "nbformat": 4,
 "nbformat_minor": 1
}
