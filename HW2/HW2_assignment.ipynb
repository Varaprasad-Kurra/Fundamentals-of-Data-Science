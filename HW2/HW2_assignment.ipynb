{
 "cells": [
  {
   "cell_type": "markdown",
   "metadata": {},
   "source": [
    "# Homework 2\n",
    "In this homework assignment, you will explore Auto-MPG Dataset. \n",
    "\n",
    "Dataset contains following attributes:\n",
    "1. mpg (miles per gallon)\n",
    "2. cylinders (number of cylinders, power unit of an engine)\n",
    "3. displacement (total volume of all the cylinders in an engine, measured in cubic centimeters [cc])\n",
    "4. horsepower: (the amount of power an engine develops)\n",
    "5. weight: (weight of the car)\n",
    "6. acceleration: (accelaration of the car)\n",
    "7. year: (model year of the car, two digits representing the year from 19**)\n",
    "8. origin: (shows the origin of the car, 1 for American, 2 for European and 3 for Asian)\n",
    "9. car name: (unique name for each car)\n",
    "\n",
    "You will explore the data types and scales, cardinalities, number of missing values, detect outliers, handle missing values and outliers and create data quality report for original and cleaned dataset."
   ]
  },
  {
   "cell_type": "code",
   "execution_count": null,
   "metadata": {},
   "outputs": [],
   "source": [
    "%matplotlib inline\n",
    "import pandas as pd\n",
    "import numpy as np\n",
    "import matplotlib\n",
    "import matplotlib.pyplot as plt"
   ]
  },
  {
   "cell_type": "markdown",
   "metadata": {},
   "source": [
    "### Read the dataset"
   ]
  },
  {
   "cell_type": "code",
   "execution_count": null,
   "metadata": {},
   "outputs": [],
   "source": [
    "adf = pd.read_csv('auto-mpg.csv')"
   ]
  },
  {
   "cell_type": "markdown",
   "metadata": {},
   "source": [
    "### Q1 (10 points)\n",
    "Identify the data types (numerical [int, float], categorical) and data scales for all the attributes."
   ]
  },
  {
   "cell_type": "code",
   "execution_count": null,
   "metadata": {},
   "outputs": [],
   "source": [
    "# Answer to Q1"
   ]
  },
  {
   "cell_type": "markdown",
   "metadata": {},
   "source": [
    "| Attribute  | Data Type  | Data Scale |\n",
    "|------------|------------|------------|\n",
    "|     mpg    | ?          |      ?     |\n",
    "|displacement| ?          |      ?     |\n",
    "|horsepower  | ?          |      ?     |\n",
    "|weight      | ?          |      ?     |\n",
    "|year        | ?          |      ?     |\n",
    "|origin      | ?          |      ?     |\n",
    "|carname     | ?          |      ?     |\n",
    "\n",
    "\n"
   ]
  },
  {
   "cell_type": "markdown",
   "metadata": {},
   "source": [
    "### Q2 (20 points)\n",
    "Identify the cardinalities (number of unique values) and number of missing values for each attribute"
   ]
  },
  {
   "cell_type": "code",
   "execution_count": null,
   "metadata": {},
   "outputs": [],
   "source": [
    "# Your answer to Q2 goes here!"
   ]
  },
  {
   "cell_type": "markdown",
   "metadata": {},
   "source": [
    "### Q3 (20 points)\n",
    "Visualize the distribution of each attribute (other than carname, since it is unique). Note here that for nominal and ordinal scale attributes, use bar plots. For ratio and interval scale attributes, use histograms.\n",
    "\n",
    "Hint: To get the counts of numerical (but also nominal) attributes, you can use `value_counts()` method.\n"
   ]
  },
  {
   "cell_type": "code",
   "execution_count": null,
   "metadata": {},
   "outputs": [],
   "source": [
    "# For categorical attributes"
   ]
  },
  {
   "cell_type": "code",
   "execution_count": null,
   "metadata": {},
   "outputs": [],
   "source": [
    "# For numerical attributes"
   ]
  },
  {
   "cell_type": "markdown",
   "metadata": {},
   "source": [
    "### Q4 (20 points)\n",
    "Using your favorite outlier detection method, identify the outliers for each attribute (other than year, origin, and carname). For each outlier, remove the outlier or replace with a default value.\n",
    "\n",
    "Hint 1: For simplicity, you can use $\\mu \\pm 2\\sigma$ (alternatively, $3\\sigma$) or the interval between $Q1-1.5IQR$ and $Q3+1.5IQR$.\n",
    "\n",
    "Hint 2: To replace, you can use the median/mean value or minimum/maximum value depending on the direction of the outlier.\n"
   ]
  },
  {
   "cell_type": "code",
   "execution_count": null,
   "metadata": {},
   "outputs": [],
   "source": [
    "# Answer to Q4 goes here"
   ]
  },
  {
   "cell_type": "markdown",
   "metadata": {},
   "source": [
    "### Q5 (10 points)\n",
    "Handle the missing values you found in Q2 using kNN imputation. Use `KNNImputer` from `sklearn.imputer` for this task. Set the number of neighbors to 3 and use the column subset of `['cylinders', 'displacement', 'weight']` for imputation."
   ]
  },
  {
   "cell_type": "code",
   "execution_count": null,
   "metadata": {},
   "outputs": [],
   "source": [
    "# Answer to Q5 goes here\n",
    "from sklearn.impute import KNNImputer\n",
    "knn_imputer = KNNImputer(n_neighbors=3)\n",
    "impute_copy = adf[['mpg', 'horsepower', 'cylinders', 'displacement', 'weight']].copy()\n",
    "\n",
    "# your code ...."
   ]
  },
  {
   "cell_type": "markdown",
   "metadata": {},
   "source": [
    "### Q6 (20 points)\n",
    "Create a Scatter Plot Matrix (a pair plot) of attributes. Use `origin` map plot aspects to different colors. Based on the SPLOM, answer the following questions.\n",
    "\n",
    "#### Q6.a -  What can you say about the relationship between cylinders and mpg values?\n",
    "#### Q6.b -  What can you say about the cylinders of Asian cars (origin = 3)?\n",
    "#### Q6.c -  Is there a correlation between weight and displacement?\n",
    "\n",
    "Hint: Use keyword argument `hue='origin'` and `markers` to see the differences of cars with different origins.\n"
   ]
  },
  {
   "cell_type": "code",
   "execution_count": null,
   "metadata": {},
   "outputs": [],
   "source": [
    "import seaborn as sns\n",
    "\n",
    "# you answer to Q6 goes here..."
   ]
  },
  {
   "cell_type": "markdown",
   "metadata": {},
   "source": [
    "### Bonus Question (20 points)\n",
    "\n",
    "Create a data quality report for the Auto-MPG dataset. \n",
    "\n",
    "Provide the data quality tables, distributions of categorical and nominal variables.\n",
    "\n",
    "Also provide your solutions for handling outliers and missing values. \n",
    "\n",
    "Create the data quality tables after handling outliers and missing values.\n",
    "\n",
    "Provide this as a separate PDF file. You can use the cells below to find statistics and create visualizations.\n"
   ]
  },
  {
   "cell_type": "code",
   "execution_count": null,
   "metadata": {},
   "outputs": [],
   "source": []
  }
 ],
 "metadata": {
  "kernelspec": {
   "display_name": "Python 3",
   "language": "python",
   "name": "python3"
  },
  "language_info": {
   "codemirror_mode": {
    "name": "ipython",
    "version": 3
   },
   "file_extension": ".py",
   "mimetype": "text/x-python",
   "name": "python",
   "nbconvert_exporter": "python",
   "pygments_lexer": "ipython3",
   "version": "3.8.1"
  }
 },
 "nbformat": 4,
 "nbformat_minor": 2
}
