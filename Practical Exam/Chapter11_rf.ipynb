{
 "cells": [
  {
   "cell_type": "markdown",
   "metadata": {},
   "source": [
    "## Feature Engineering and Random Forests"
   ]
  },
  {
   "cell_type": "code",
   "execution_count": 1,
   "metadata": {},
   "outputs": [
    {
     "name": "stderr",
     "output_type": "stream",
     "text": [
      "/home/baydin2/anaconda3/lib/python3.7/site-packages/statsmodels/tools/_testing.py:19: FutureWarning: pandas.util.testing is deprecated. Use the functions in the public API at pandas.testing instead.\n",
      "  import pandas.util.testing as tm\n"
     ]
    },
    {
     "data": {
      "text/html": [
       "<div>\n",
       "<style scoped>\n",
       "    .dataframe tbody tr th:only-of-type {\n",
       "        vertical-align: middle;\n",
       "    }\n",
       "\n",
       "    .dataframe tbody tr th {\n",
       "        vertical-align: top;\n",
       "    }\n",
       "\n",
       "    .dataframe thead th {\n",
       "        text-align: right;\n",
       "    }\n",
       "</style>\n",
       "<table border=\"1\" class=\"dataframe\">\n",
       "  <thead>\n",
       "    <tr style=\"text-align: right;\">\n",
       "      <th></th>\n",
       "      <th>sepal_length</th>\n",
       "      <th>sepal_width</th>\n",
       "      <th>petal_length</th>\n",
       "      <th>petal_width</th>\n",
       "      <th>species</th>\n",
       "    </tr>\n",
       "  </thead>\n",
       "  <tbody>\n",
       "    <tr>\n",
       "      <th>0</th>\n",
       "      <td>5.1</td>\n",
       "      <td>3.5</td>\n",
       "      <td>1.4</td>\n",
       "      <td>0.2</td>\n",
       "      <td>setosa</td>\n",
       "    </tr>\n",
       "    <tr>\n",
       "      <th>1</th>\n",
       "      <td>4.9</td>\n",
       "      <td>3.0</td>\n",
       "      <td>1.4</td>\n",
       "      <td>0.2</td>\n",
       "      <td>setosa</td>\n",
       "    </tr>\n",
       "    <tr>\n",
       "      <th>2</th>\n",
       "      <td>4.7</td>\n",
       "      <td>3.2</td>\n",
       "      <td>1.3</td>\n",
       "      <td>0.2</td>\n",
       "      <td>setosa</td>\n",
       "    </tr>\n",
       "    <tr>\n",
       "      <th>3</th>\n",
       "      <td>4.6</td>\n",
       "      <td>3.1</td>\n",
       "      <td>1.5</td>\n",
       "      <td>0.2</td>\n",
       "      <td>setosa</td>\n",
       "    </tr>\n",
       "    <tr>\n",
       "      <th>4</th>\n",
       "      <td>5.0</td>\n",
       "      <td>3.6</td>\n",
       "      <td>1.4</td>\n",
       "      <td>0.2</td>\n",
       "      <td>setosa</td>\n",
       "    </tr>\n",
       "  </tbody>\n",
       "</table>\n",
       "</div>"
      ],
      "text/plain": [
       "   sepal_length  sepal_width  petal_length  petal_width species\n",
       "0           5.1          3.5           1.4          0.2  setosa\n",
       "1           4.9          3.0           1.4          0.2  setosa\n",
       "2           4.7          3.2           1.3          0.2  setosa\n",
       "3           4.6          3.1           1.5          0.2  setosa\n",
       "4           5.0          3.6           1.4          0.2  setosa"
      ]
     },
     "execution_count": 1,
     "metadata": {},
     "output_type": "execute_result"
    }
   ],
   "source": [
    "import seaborn as sns\n",
    "import pandas as pd\n",
    "import numpy as np\n",
    "\n",
    "df = sns.load_dataset('iris')\n",
    "df.head()"
   ]
  },
  {
   "cell_type": "markdown",
   "metadata": {},
   "source": [
    "### Train a decision tree classifier with gini index as criterion"
   ]
  },
  {
   "cell_type": "code",
   "execution_count": 2,
   "metadata": {},
   "outputs": [
    {
     "name": "stdout",
     "output_type": "stream",
     "text": [
      "   LevelLimit  Score for Training  Score for Testing\n",
      "1         1.0                0.69               0.62\n",
      "2         2.0                0.96               0.92\n",
      "3         3.0                0.98               0.98\n",
      "4         4.0                1.00               0.98\n",
      "5         5.0                1.00               0.98\n",
      "6         6.0                1.00               0.98\n"
     ]
    },
    {
     "data": {
      "text/plain": [
       "[Text(0, 0.5, 'Classification Accuracy'), Text(0.5, 0, 'Tree Depth')]"
      ]
     },
     "execution_count": 2,
     "metadata": {},
     "output_type": "execute_result"
    },
    {
     "data": {
      "image/png": "[encoded data removed]",
      "text/plain": [
       "<Figure size 432x288 with 1 Axes>"
      ]
     },
     "metadata": {
      "needs_background": "light"
     },
     "output_type": "display_data"
    }
   ],
   "source": [
    "\n",
    "from sklearn.model_selection import train_test_split\n",
    "X, y = df.iloc[:,:4].values, df['species'].values \n",
    "X_train, X_test, y_train, y_test = train_test_split(X, y, test_size=0.33, random_state=0) \n",
    "\n",
    "from sklearn.tree import DecisionTreeClassifier\n",
    "dct = DecisionTreeClassifier(criterion='entropy', max_depth=3, random_state=0)\n",
    "dct= dct.fit(X_train, y_train)\n",
    "\n",
    "# get the results for depths 1 through 6\n",
    "resultsGini = pd.DataFrame(columns=['LevelLimit', 'Score for Training', 'Score for Testing'])\n",
    "for treeDepth in range (1,7):\n",
    "    dct = DecisionTreeClassifier(criterion='gini', max_depth=treeDepth, random_state=0)\n",
    "    dct= dct.fit(X_train, y_train)\n",
    "    dct.predict(X_test)\n",
    "    scoreTrain = dct.score(X_train, y_train)\n",
    "    scoreTest = dct.score(X_test, y_test)\n",
    "    resultsGini.loc[treeDepth] = [treeDepth, scoreTrain, scoreTest]\n",
    "\n",
    "print(resultsGini)\n",
    "resultsGini.pop('LevelLimit')\n",
    "ax = resultsGini.plot()\n",
    "ax.set(xlabel=\"Tree Depth\", ylabel=\"Classification Accuracy\")"
   ]
  },
  {
   "cell_type": "markdown",
   "metadata": {},
   "source": [
    "### Feature engineering and creating aggregates."
   ]
  },
  {
   "cell_type": "code",
   "execution_count": 3,
   "metadata": {},
   "outputs": [
    {
     "name": "stdout",
     "output_type": "stream",
     "text": [
      "(150, 14)\n"
     ]
    },
    {
     "data": {
      "text/html": [
       "<div>\n",
       "<style scoped>\n",
       "    .dataframe tbody tr th:only-of-type {\n",
       "        vertical-align: middle;\n",
       "    }\n",
       "\n",
       "    .dataframe tbody tr th {\n",
       "        vertical-align: top;\n",
       "    }\n",
       "\n",
       "    .dataframe thead th {\n",
       "        text-align: right;\n",
       "    }\n",
       "</style>\n",
       "<table border=\"1\" class=\"dataframe\">\n",
       "  <thead>\n",
       "    <tr style=\"text-align: right;\">\n",
       "      <th></th>\n",
       "      <th>sepal_length</th>\n",
       "      <th>sepal_width</th>\n",
       "      <th>petal_length</th>\n",
       "      <th>petal_width</th>\n",
       "      <th>SepLen/SepWid</th>\n",
       "      <th>SepLen/PetLen</th>\n",
       "      <th>SepLen/PetWid</th>\n",
       "      <th>SepWid/PetLen</th>\n",
       "      <th>SepWid/PetWid</th>\n",
       "      <th>PetLen/PetWid</th>\n",
       "      <th>SepLen+SepWid</th>\n",
       "      <th>PetLen+PetWid</th>\n",
       "      <th>Sep+Pet</th>\n",
       "      <th>species</th>\n",
       "    </tr>\n",
       "  </thead>\n",
       "  <tbody>\n",
       "    <tr>\n",
       "      <th>0</th>\n",
       "      <td>5.1</td>\n",
       "      <td>3.5</td>\n",
       "      <td>1.4</td>\n",
       "      <td>0.2</td>\n",
       "      <td>1.457143</td>\n",
       "      <td>3.642857</td>\n",
       "      <td>25.5</td>\n",
       "      <td>2.500000</td>\n",
       "      <td>17.5</td>\n",
       "      <td>7.0</td>\n",
       "      <td>8.6</td>\n",
       "      <td>1.6</td>\n",
       "      <td>10.2</td>\n",
       "      <td>setosa</td>\n",
       "    </tr>\n",
       "    <tr>\n",
       "      <th>1</th>\n",
       "      <td>4.9</td>\n",
       "      <td>3.0</td>\n",
       "      <td>1.4</td>\n",
       "      <td>0.2</td>\n",
       "      <td>1.633333</td>\n",
       "      <td>3.500000</td>\n",
       "      <td>24.5</td>\n",
       "      <td>2.142857</td>\n",
       "      <td>15.0</td>\n",
       "      <td>7.0</td>\n",
       "      <td>7.9</td>\n",
       "      <td>1.6</td>\n",
       "      <td>9.5</td>\n",
       "      <td>setosa</td>\n",
       "    </tr>\n",
       "    <tr>\n",
       "      <th>2</th>\n",
       "      <td>4.7</td>\n",
       "      <td>3.2</td>\n",
       "      <td>1.3</td>\n",
       "      <td>0.2</td>\n",
       "      <td>1.468750</td>\n",
       "      <td>3.615385</td>\n",
       "      <td>23.5</td>\n",
       "      <td>2.461538</td>\n",
       "      <td>16.0</td>\n",
       "      <td>6.5</td>\n",
       "      <td>7.9</td>\n",
       "      <td>1.5</td>\n",
       "      <td>9.4</td>\n",
       "      <td>setosa</td>\n",
       "    </tr>\n",
       "    <tr>\n",
       "      <th>3</th>\n",
       "      <td>4.6</td>\n",
       "      <td>3.1</td>\n",
       "      <td>1.5</td>\n",
       "      <td>0.2</td>\n",
       "      <td>1.483871</td>\n",
       "      <td>3.066667</td>\n",
       "      <td>23.0</td>\n",
       "      <td>2.066667</td>\n",
       "      <td>15.5</td>\n",
       "      <td>7.5</td>\n",
       "      <td>7.7</td>\n",
       "      <td>1.7</td>\n",
       "      <td>9.4</td>\n",
       "      <td>setosa</td>\n",
       "    </tr>\n",
       "    <tr>\n",
       "      <th>4</th>\n",
       "      <td>5.0</td>\n",
       "      <td>3.6</td>\n",
       "      <td>1.4</td>\n",
       "      <td>0.2</td>\n",
       "      <td>1.388889</td>\n",
       "      <td>3.571429</td>\n",
       "      <td>25.0</td>\n",
       "      <td>2.571429</td>\n",
       "      <td>18.0</td>\n",
       "      <td>7.0</td>\n",
       "      <td>8.6</td>\n",
       "      <td>1.6</td>\n",
       "      <td>10.2</td>\n",
       "      <td>setosa</td>\n",
       "    </tr>\n",
       "  </tbody>\n",
       "</table>\n",
       "</div>"
      ],
      "text/plain": [
       "   sepal_length  sepal_width  petal_length  petal_width  SepLen/SepWid  \\\n",
       "0           5.1          3.5           1.4          0.2       1.457143   \n",
       "1           4.9          3.0           1.4          0.2       1.633333   \n",
       "2           4.7          3.2           1.3          0.2       1.468750   \n",
       "3           4.6          3.1           1.5          0.2       1.483871   \n",
       "4           5.0          3.6           1.4          0.2       1.388889   \n",
       "\n",
       "   SepLen/PetLen  SepLen/PetWid  SepWid/PetLen  SepWid/PetWid  PetLen/PetWid  \\\n",
       "0       3.642857           25.5       2.500000           17.5            7.0   \n",
       "1       3.500000           24.5       2.142857           15.0            7.0   \n",
       "2       3.615385           23.5       2.461538           16.0            6.5   \n",
       "3       3.066667           23.0       2.066667           15.5            7.5   \n",
       "4       3.571429           25.0       2.571429           18.0            7.0   \n",
       "\n",
       "   SepLen+SepWid  PetLen+PetWid  Sep+Pet species  \n",
       "0            8.6            1.6     10.2  setosa  \n",
       "1            7.9            1.6      9.5  setosa  \n",
       "2            7.9            1.5      9.4  setosa  \n",
       "3            7.7            1.7      9.4  setosa  \n",
       "4            8.6            1.6     10.2  setosa  "
      ]
     },
     "execution_count": 3,
     "metadata": {},
     "output_type": "execute_result"
    }
   ],
   "source": [
    "# feature engineering ratios\n",
    "df['SepLen/SepWid']=df['sepal_length']/df['sepal_width']\n",
    "df['SepLen/PetLen']=df['sepal_length']/df['petal_length']\n",
    "df['SepLen/PetWid']=df['sepal_length']/df['petal_width']\n",
    "df['SepWid/PetLen']=df['sepal_width']/df['petal_length']\n",
    "df['SepWid/PetWid']=df['sepal_width']/df['petal_width']\n",
    "df['PetLen/PetWid']=df['petal_length']/df['petal_width']\n",
    "#Aggregates might work too\n",
    "df['SepLen+SepWid']=df['sepal_length']+df['sepal_width']\n",
    "df['PetLen+PetWid']=df['petal_length']+df['petal_width']\n",
    "df['Sep+Pet']=df['SepLen+SepWid']+df['PetLen+PetWid']\n",
    "\n",
    "#let's move 'Class' column to the end of this list\n",
    "tempCol = df.pop('species')\n",
    "df['species']=tempCol\n",
    "\n",
    "eng_df = df.copy()\n",
    "\n",
    "print(df.shape)\n",
    "eng_df.head()"
   ]
  },
  {
   "cell_type": "code",
   "execution_count": null,
   "metadata": {},
   "outputs": [],
   "source": [
    "# visualize the relations\n",
    "sns.pairplot(eng_df, hue='species')"
   ]
  },
  {
   "cell_type": "code",
   "execution_count": 5,
   "metadata": {},
   "outputs": [
    {
     "name": "stdout",
     "output_type": "stream",
     "text": [
      "    LevelLimit  Score for Training  Score for Testing\n",
      "1          1.0                0.69               0.62\n",
      "2          2.0                0.97               0.86\n",
      "3          3.0                0.97               0.92\n",
      "4          4.0                0.99               0.88\n",
      "5          5.0                1.00               0.88\n",
      "6          6.0                1.00               0.88\n",
      "7          7.0                1.00               0.88\n",
      "8          8.0                1.00               0.88\n",
      "9          9.0                1.00               0.88\n",
      "10        10.0                1.00               0.88\n",
      "11        11.0                1.00               0.88\n",
      "12        12.0                1.00               0.88\n",
      "13        13.0                1.00               0.88\n",
      "14        14.0                1.00               0.88\n",
      "15        15.0                1.00               0.88\n",
      "16        16.0                1.00               0.88\n",
      "17        17.0                1.00               0.88\n",
      "18        18.0                1.00               0.88\n",
      "19        19.0                1.00               0.88\n"
     ]
    },
    {
     "data": {
      "image/png": "[encoded data removed]",
      "text/plain": [
       "<Figure size 432x288 with 1 Axes>"
      ]
     },
     "metadata": {
      "needs_background": "light"
     },
     "output_type": "display_data"
    }
   ],
   "source": [
    "# build decision tree classifiers using the new dataset\n",
    "resultsGini2 = pd.DataFrame(columns=['LevelLimit', 'Score for Training', 'Score for Testing'])\n",
    "\n",
    "X, y = eng_df.iloc[:,:13].values, eng_df['species'].values \n",
    "X_train, X_test, y_train, y_test = train_test_split(X, y, test_size=0.33, random_state=0) \n",
    "\n",
    "\n",
    "for treeDepth in range (1,20):\n",
    "    dct = DecisionTreeClassifier(criterion='gini', max_depth=treeDepth, random_state=0)\n",
    "    dct= dct.fit(X_train, y_train)\n",
    "    dct.predict(X_test)\n",
    "    scoreTrain = dct.score(X_train, y_train)\n",
    "    scoreTest = dct.score(X_test, y_test)\n",
    "    resultsGini2.loc[treeDepth] = [treeDepth, scoreTrain, scoreTest]\n",
    "\n",
    "print(resultsGini2)\n",
    "resultsGini2.pop('LevelLimit')\n",
    "ax = resultsGini2.plot()\n"
   ]
  },
  {
   "cell_type": "markdown",
   "metadata": {},
   "source": [
    "### Build a random forest classifier from the original Iris dataset\n",
    "\n",
    "The RF will have 1000 estimators. We will again use 1/3-2/3 Holdout sampling. \n",
    "Additionally, random forest allows us to see importances of features (see .feature_importances_) and check https://scikit-learn.org/stable/auto_examples/inspection/plot_permutation_importance.html for more information."
   ]
  },
  {
   "cell_type": "code",
   "execution_count": 6,
   "metadata": {},
   "outputs": [
    {
     "name": "stdout",
     "output_type": "stream",
     "text": [
      "Training accuracy: 1.0\n",
      "Testing accuracy: 0.96\n",
      "Feature:  sepal_length \tImportance:  0.10884326894507074\n",
      "Feature:  sepal_width \tImportance:  0.021413648976695704\n",
      "Feature:  petal_length \tImportance:  0.4459078846012842\n",
      "Feature:  petal_width \tImportance:  0.4238351974769493\n"
     ]
    }
   ],
   "source": [
    "#Reload the dataset for RF\n",
    "df = sns.load_dataset('iris')\n",
    "\n",
    "from sklearn.ensemble import RandomForestClassifier\n",
    "feat_labels = df.columns[:4]\n",
    "X = df[feat_labels]\n",
    "y = df['species']\n",
    "X_train, X_test, y_train, y_test = train_test_split(X, y, test_size=0.33, random_state=0) \n",
    "\n",
    "forest = RandomForestClassifier(n_estimators=1000, random_state=0, n_jobs=-1)\n",
    "forest.fit(X_train, y_train)\n",
    "print(\"Training accuracy:\", forest.score(X_train, y_train))\n",
    "print(\"Testing accuracy:\", forest.score(X_test, y_test))\n",
    "\n",
    "importances = forest.feature_importances_\n",
    "for f in range(X_train.shape[1]):\n",
    "    print('Feature: ', feat_labels[f], '\\tImportance: ', importances[f])"
   ]
  },
  {
   "cell_type": "markdown",
   "metadata": {},
   "source": [
    "Check the importances of the engineered features and how they compare to original set of features"
   ]
  },
  {
   "cell_type": "code",
   "execution_count": 7,
   "metadata": {},
   "outputs": [
    {
     "name": "stdout",
     "output_type": "stream",
     "text": [
      "Training accuracy: 1.0\n",
      "Testing accuracy: 0.96\n",
      "Feature:  sepal_length \tImportance:  0.006202260864139883\n",
      "Feature:  sepal_width \tImportance:  0.0026027650954748662\n",
      "Feature:  petal_length \tImportance:  0.13237700342555248\n",
      "Feature:  petal_width \tImportance:  0.12558855236908792\n",
      "Feature:  SepLen/SepWid \tImportance:  0.03559319493113186\n",
      "Feature:  SepLen/PetLen \tImportance:  0.1520511925213159\n",
      "Feature:  SepLen/PetWid \tImportance:  0.10401307382183758\n",
      "Feature:  SepWid/PetLen \tImportance:  0.08964242954050786\n",
      "Feature:  SepWid/PetWid \tImportance:  0.1156203068208364\n",
      "Feature:  PetLen/PetWid \tImportance:  0.023596129121845458\n",
      "Feature:  SepLen+SepWid \tImportance:  0.004689483184247032\n",
      "Feature:  PetLen+PetWid \tImportance:  0.16027570248907247\n",
      "Feature:  Sep+Pet \tImportance:  0.04774790581495029\n"
     ]
    }
   ],
   "source": [
    "X = eng_df.iloc[:, :13].values\n",
    "y = eng_df['species']\n",
    "X_train, X_test, y_train, y_test = train_test_split(X, y, test_size=0.33, random_state=0) \n",
    "\n",
    "feat_labels = eng_df.columns[:13]\n",
    "forestEng = RandomForestClassifier(n_estimators=1000, random_state=0, n_jobs=-1)\n",
    "forestEng.fit(X_train, y_train)\n",
    "\n",
    "print(\"Training accuracy:\", forestEng.score(X_train, y_train))\n",
    "print(\"Testing accuracy:\", forestEng.score(X_test, y_test))\n",
    "\n",
    "importances = forestEng.feature_importances_\n",
    "for f in range(X_train.shape[1]):\n",
    "    print('Feature: ', feat_labels[f], '\\tImportance: ', importances[f])"
   ]
  },
  {
   "cell_type": "code",
   "execution_count": null,
   "metadata": {},
   "outputs": [],
   "source": [
    "forestEng.feature_importances_"
   ]
  },
  {
   "cell_type": "code",
   "execution_count": 8,
   "metadata": {},
   "outputs": [
    {
     "name": "stdout",
     "output_type": "stream",
     "text": [
      "    Count of Trees  Score for Training  Score for Testing\n",
      "1              1.0                0.96               0.92\n",
      "2             11.0                0.99               0.98\n",
      "3             21.0                0.99               0.98\n",
      "4             31.0                0.99               0.98\n",
      "5             41.0                0.99               0.98\n",
      "6             51.0                0.99               0.98\n",
      "7             61.0                0.99               0.98\n",
      "8             71.0                0.99               0.98\n",
      "9             81.0                0.99               0.98\n",
      "10            91.0                0.99               0.98\n"
     ]
    },
    {
     "data": {
      "image/png": "[encoded data removed]",
      "text/plain": [
       "<Figure size 432x288 with 1 Axes>"
      ]
     },
     "metadata": {
      "needs_background": "light"
     },
     "output_type": "display_data"
    }
   ],
   "source": [
    "# Build a set of random forest with varying number of estimators using gini index.\n",
    "\n",
    "from sklearn.ensemble import RandomForestClassifier\n",
    "results = pd.DataFrame(columns=['Count of Trees', 'Score for Training', 'Score for Testing'])\n",
    "indexR=1\n",
    "for sizeOfForest in range (1, 102, 10):\n",
    "    forest = RandomForestClassifier(criterion='gini', n_estimators=sizeOfForest, max_depth=3, random_state=0, n_jobs=-1)\n",
    "    forest.fit(X_train, y_train)\n",
    "    scoreTrain = forest.score(X_train, y_train)\n",
    "    scoreTest = forest.score(X_test, y_test)\n",
    "    results.loc[indexR] = [sizeOfForest, scoreTrain, scoreTest]\n",
    "    indexR=indexR+1\n",
    "\n",
    "print(results.head(10))\n",
    "results.pop('Count of Trees')\n",
    "ax = results.plot()"
   ]
  }
 ],
 "metadata": {
  "kernelspec": {
   "display_name": "Python 3",
   "language": "python",
   "name": "python3"
  },
  "language_info": {
   "codemirror_mode": {
    "name": "ipython",
    "version": 3
   },
   "file_extension": ".py",
   "mimetype": "text/x-python",
   "name": "python",
   "nbconvert_exporter": "python",
   "pygments_lexer": "ipython3",
   "version": "3.8.1"
  }
 },
 "nbformat": 4,
 "nbformat_minor": 4
}
